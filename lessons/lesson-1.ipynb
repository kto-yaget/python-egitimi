{
 "cells": [
  {
   "cell_type": "markdown",
   "metadata": {},
   "source": [
    "# LESSON-1 (13.12.2023)\n",
    "\n",
    "## print() Fonksiyonu Kullanım Biçimleri\n"
   ]
  },
  {
   "cell_type": "code",
   "execution_count": 1,
   "metadata": {},
   "outputs": [
    {
     "name": "stdout",
     "output_type": "stream",
     "text": [
      "hello\n",
      "hello world\n",
      "hello-world\n",
      "hello world. hello yaget. "
     ]
    }
   ],
   "source": [
    "print(\"hello\")\n",
    "print(\"hello\", \"world\")\n",
    "print(\"hello\", \"world\", sep=\"-\")\n",
    "print(\"hello\", \"world\", end=\". \")\n",
    "print(\"hello\", \"yaget\", end=\". \")"
   ]
  },
  {
   "cell_type": "markdown",
   "metadata": {},
   "source": [
    "\n",
    "----------------------------------------------------------------------------------------------------------------------------\n",
    "### print() Fonksiyonu Format Kullanımı\n"
   ]
  },
  {
   "cell_type": "code",
   "execution_count": 2,
   "metadata": {},
   "outputs": [
    {
     "name": "stdout",
     "output_type": "stream",
     "text": [
      "Hoşgeldin Yavuz Selim!\n",
      "Hoşgeldin Ahmet Berk!\n",
      "Hoşgeldin Mahmut Tuncer!\n"
     ]
    }
   ],
   "source": [
    "isim = \"Yavuz Selim\"\n",
    "print(\"Hoşgeldin {}!\".format(isim))\n",
    "\n",
    "isim = \"Ahmet Berk\"\n",
    "print(\"Hoşgeldin {0}!\".format(isim))\n",
    "\n",
    "isim = \"Mahmut Tuncer\"\n",
    "print(f\"Hoşgeldin {isim}!\")"
   ]
  },
  {
   "cell_type": "markdown",
   "metadata": {},
   "source": [
    "\n",
    "----------------------------------------------------------------------------------------------------------------------------\n",
    "## input() Fonksiyonu Kullanım Biçimleri"
   ]
  },
  {
   "cell_type": "code",
   "execution_count": 3,
   "metadata": {},
   "outputs": [
    {
     "name": "stdout",
     "output_type": "stream",
     "text": [
      "Hoşgeldin Fatih!\n",
      "Hoşgeldin Fatih!\n",
      "Hoşgeldin Fatih!"
     ]
    }
   ],
   "source": [
    "isim = input(\"Lütfen isminizi girin: \")\n",
    "# isim olarak Fatih girildi!\n",
    "\n",
    "print(f\"Hoşgeldin {isim}!\")\n",
    "print(\"Hoşgeldin \" + isim + \"!\")\n",
    "print(\"Hoşgeldin {}\".format(isim), end=\"!\")"
   ]
  },
  {
   "cell_type": "code",
   "execution_count": 4,
   "metadata": {},
   "outputs": [
    {
     "name": "stdout",
     "output_type": "stream",
     "text": [
      "5\n"
     ]
    }
   ],
   "source": [
    "sayi1 = int(input(\"1. Sayıyı girin: \"))\n",
    "sayi2 = int(input(\"2. Sayıyı girin: \"))\n",
    "# sayi1 = 2\n",
    "# sayi2 = 3\n",
    "\n",
    "print(sayi1 + sayi2)"
   ]
  },
  {
   "cell_type": "code",
   "execution_count": 5,
   "metadata": {},
   "outputs": [
    {
     "name": "stdout",
     "output_type": "stream",
     "text": [
      "32\n"
     ]
    }
   ],
   "source": [
    "sayi1 = input(\"1. Sayıyı girin: \")\n",
    "sayi2 = input(\"2. Sayıyı girin: \")\n",
    "# sayi1 = 9\n",
    "# sayi2 = 23\n",
    " \n",
    "print(int(sayi1) + int(sayi2))"
   ]
  },
  {
   "cell_type": "markdown",
   "metadata": {},
   "source": [
    "----------------------------------------------------------------------------------------------------------------------------\n",
    "## Python'da bir değişkenin veri tipini öğrenmek için type() fonksiyonu kullanılır."
   ]
  },
  {
   "cell_type": "code",
   "execution_count": 6,
   "metadata": {},
   "outputs": [
    {
     "name": "stdout",
     "output_type": "stream",
     "text": [
      "<class 'int'>\n",
      "<class 'float'>\n"
     ]
    }
   ],
   "source": [
    "x = 5\n",
    "print(type(x))\n",
    "y = 5.1\n",
    "print(type(y))"
   ]
  },
  {
   "cell_type": "markdown",
   "metadata": {},
   "source": [
    "----------------------------------------------------------------------------------------------------------------------------\n",
    "## Veri Tipleri\n",
    "\n",
    "### Tam Sayılar (int)\n",
    "a = 5\n",
    "### Ondalıklı Sayılar (float)\n",
    "b = 3.0"
   ]
  },
  {
   "cell_type": "code",
   "execution_count": 7,
   "metadata": {},
   "outputs": [
    {
     "name": "stdout",
     "output_type": "stream",
     "text": [
      "8.0\n",
      "<class 'float'>\n",
      "2.0\n",
      "<class 'float'>\n",
      "15.0\n",
      "<class 'float'>\n",
      "1.6666666666666667\n",
      "<class 'float'>\n"
     ]
    }
   ],
   "source": [
    "a = 5   # int\n",
    "b = 3.0 # float\n",
    "\n",
    "c = a + b\n",
    "d = a - b\n",
    "e = a * b\n",
    "f = a / b\n",
    "\n",
    "print(c) \n",
    "print(type(c))\n",
    "\n",
    "print(d) \n",
    "print(type(d))\n",
    "\n",
    "print(e) \n",
    "print(type(e))\n",
    "\n",
    "print(f) \n",
    "print(type(f))\n"
   ]
  },
  {
   "cell_type": "markdown",
   "metadata": {},
   "source": [
    "----------------------------------------------------------------------------------------------------------------------------\n",
    "### Karakter Dizileri (str) "
   ]
  },
  {
   "cell_type": "code",
   "execution_count": 8,
   "metadata": {},
   "outputs": [
    {
     "name": "stdout",
     "output_type": "stream",
     "text": [
      "Fatih\n",
      "<class 'str'>\n"
     ]
    }
   ],
   "source": [
    "isim = \"Fatih\"\n",
    "\n",
    "print(isim)\n",
    "print(type(isim))"
   ]
  },
  {
   "cell_type": "markdown",
   "metadata": {},
   "source": [
    "----------------------------------------------------------------------------------------------------------------------------\n",
    "### Liste (list)\n",
    "\n",
    "#### Liste içerisindeki değerlere erişim adımları. İndexler 0'dan başlar."
   ]
  },
  {
   "cell_type": "code",
   "execution_count": 9,
   "metadata": {},
   "outputs": [
    {
     "name": "stdout",
     "output_type": "stream",
     "text": [
      "0. indexteki rakam =  1\n",
      "5. indexteki rakam =  6\n",
      "3 değeri 2. indexte\n"
     ]
    }
   ],
   "source": [
    "liste = [1,2,3,4,5,6,\"yedi\"]\n",
    "\n",
    "# listenin 0. indexini yazdırma\n",
    "print(\"0. indexteki rakam = \", liste[0])\n",
    "\n",
    "# listenin 5. indexini yazdırma\n",
    "print(\"5. indexteki rakam = \", liste[5])\n",
    "\n",
    "# listedeki 3 değerinin indexini bulma\n",
    "print(\"3 değeri {}. indexte\".format(liste.index(3)))"
   ]
  },
  {
   "cell_type": "markdown",
   "metadata": {},
   "source": [
    "----------------------------------------------------------------------------------------------------------------------------\n",
    "#### Liste içerisine yeni bir değer ekleme ve çıkarma\n"
   ]
  },
  {
   "cell_type": "code",
   "execution_count": 10,
   "metadata": {},
   "outputs": [
    {
     "name": "stdout",
     "output_type": "stream",
     "text": [
      "[1, 2, 3, 4, 5, 6, 'yedi', 'yeni deger']\n"
     ]
    }
   ],
   "source": [
    "liste = [1,2,3,4,5,6,\"yedi\"]\n",
    "\n",
    "liste.append(\"yeni deger\") # listenin sonuna ekler\n",
    "print(liste)"
   ]
  },
  {
   "cell_type": "code",
   "execution_count": 11,
   "metadata": {},
   "outputs": [
    {
     "name": "stdout",
     "output_type": "stream",
     "text": [
      "[1, 'yeni deger', 2, 3, 4, 5, 6, 'yedi']\n"
     ]
    }
   ],
   "source": [
    "liste = [1,2,3,4,5,6,\"yedi\"]\n",
    "\n",
    "liste.insert(1, \"yeni deger\") # listenin 1. indexine ekler\n",
    "print(liste)"
   ]
  },
  {
   "cell_type": "code",
   "execution_count": 12,
   "metadata": {},
   "outputs": [
    {
     "name": "stdout",
     "output_type": "stream",
     "text": [
      "[1, 2, 3, 4, 5, 6, 'yedi']\n"
     ]
    }
   ],
   "source": [
    "liste = [1,2,3,4,5,6,\"yedi\",999]\n",
    "\n",
    "liste.remove(999) # listenin içerisinde 999 değerini bulur ve siler\n",
    "print(liste)"
   ]
  },
  {
   "cell_type": "code",
   "execution_count": 13,
   "metadata": {},
   "outputs": [
    {
     "name": "stdout",
     "output_type": "stream",
     "text": [
      "[1, 2, 3, 5, 6, 'yedi']\n"
     ]
    }
   ],
   "source": [
    "liste = [1,2,3,4,5,6,\"yedi\"]\n",
    "\n",
    "liste.pop(3) # listenin 3. indexini siler\n",
    "print(liste)"
   ]
  },
  {
   "cell_type": "markdown",
   "metadata": {},
   "source": [
    "----------------------------------------------------------------------------------------------------------------------------\n",
    "#### Liste içerisinde bir değeri değiştirme"
   ]
  },
  {
   "cell_type": "code",
   "execution_count": 14,
   "metadata": {},
   "outputs": [
    {
     "name": "stdout",
     "output_type": "stream",
     "text": [
      "[1, 'yeni deger', 3, 4, 5, 6, 'yedi']\n"
     ]
    }
   ],
   "source": [
    "liste = [1,2,3,4,5,6,\"yedi\"]\n",
    "\n",
    "liste[1] = \"yeni deger\" # listenin 1. indexinin değerini \"yeni deger\" yapar\n",
    "print(liste)"
   ]
  },
  {
   "cell_type": "markdown",
   "metadata": {},
   "source": [
    "----------------------------------------------------------------------------------------------------------------------------\n",
    "### Sözlük (dict)"
   ]
  },
  {
   "cell_type": "code",
   "execution_count": 15,
   "metadata": {},
   "outputs": [
    {
     "name": "stdout",
     "output_type": "stream",
     "text": [
      "ZOR\n",
      "Yaş Yok!\n"
     ]
    }
   ],
   "source": [
    "sozluk = { \"isim\": \"Fatih\", \"soyisim\": \"ZOR\" }\n",
    "\n",
    "print(sozluk[\"soyisim\"])\n",
    "\n",
    "print(sozluk.get(\"yas\", \"Yaş Yok!\")) # istenilen değeri sözlükte bulamazsa default(\"Yaş Yok!\") değeri döner"
   ]
  },
  {
   "cell_type": "code",
   "execution_count": 16,
   "metadata": {},
   "outputs": [
    {
     "name": "stdout",
     "output_type": "stream",
     "text": [
      "Mahmut\n"
     ]
    }
   ],
   "source": [
    "sozluk = { \"isim\": \"Fatih\", \"soyisim\": \"ZOR\" }\n",
    "\n",
    "sozluk[\"isim\"] = \"Mahmut\"\n",
    "print(sozluk[\"isim\"])"
   ]
  },
  {
   "cell_type": "markdown",
   "metadata": {},
   "source": [
    "----------------------------------------------------------------------------------------------------------------------------\n",
    "### Kümeler (set)"
   ]
  },
  {
   "cell_type": "code",
   "execution_count": 17,
   "metadata": {},
   "outputs": [
    {
     "name": "stdout",
     "output_type": "stream",
     "text": [
      "{1, 2, 3, 4}\n"
     ]
    }
   ],
   "source": [
    "kume = {1,2,3,4,3}\n",
    "\n",
    "print(kume)"
   ]
  },
  {
   "cell_type": "code",
   "execution_count": 18,
   "metadata": {},
   "outputs": [
    {
     "name": "stdout",
     "output_type": "stream",
     "text": [
      "{1, 2, 3, 4, 5}\n"
     ]
    }
   ],
   "source": [
    "kume = {1,2,3,4,3}\n",
    "\n",
    "kume.add(5)\n",
    "print(kume)"
   ]
  },
  {
   "cell_type": "markdown",
   "metadata": {},
   "source": [
    "----------------------------------------------------------------------------------------------------------------------------\n",
    "### Demetler (tuple)\n"
   ]
  },
  {
   "cell_type": "code",
   "execution_count": 19,
   "metadata": {},
   "outputs": [
    {
     "name": "stdout",
     "output_type": "stream",
     "text": [
      "3\n"
     ]
    }
   ],
   "source": [
    "demet = (1,2,3,\"dört\")\n",
    "\n",
    "print(demet[2])"
   ]
  },
  {
   "cell_type": "code",
   "execution_count": 20,
   "metadata": {},
   "outputs": [
    {
     "ename": "TypeError",
     "evalue": "'tuple' object does not support item assignment",
     "output_type": "error",
     "traceback": [
      "\u001b[1;31m---------------------------------------------------------------------------\u001b[0m",
      "\u001b[1;31mTypeError\u001b[0m                                 Traceback (most recent call last)",
      "\u001b[1;32mc:\\Users\\Fatih\\Documents\\GitKraken\\python-egitimi\\week-1\\week-1.ipynb Cell 32\u001b[0m line \u001b[0;36m3\n\u001b[0;32m      <a href='vscode-notebook-cell:/c%3A/Users/Fatih/Documents/GitKraken/python-egitimi/week-1/week-1.ipynb#X46sZmlsZQ%3D%3D?line=0'>1</a>\u001b[0m demet \u001b[39m=\u001b[39m (\u001b[39m1\u001b[39m,\u001b[39m2\u001b[39m,\u001b[39m3\u001b[39m,\u001b[39m\"\u001b[39m\u001b[39mdört\u001b[39m\u001b[39m\"\u001b[39m)\n\u001b[1;32m----> <a href='vscode-notebook-cell:/c%3A/Users/Fatih/Documents/GitKraken/python-egitimi/week-1/week-1.ipynb#X46sZmlsZQ%3D%3D?line=2'>3</a>\u001b[0m demet[\u001b[39m2\u001b[39;49m] \u001b[39m=\u001b[39m \u001b[39m5\u001b[39m \u001b[39m# Hata verir\u001b[39;00m\n",
      "\u001b[1;31mTypeError\u001b[0m: 'tuple' object does not support item assignment"
     ]
    }
   ],
   "source": [
    "demet = (1,2,3,\"dört\")\n",
    "\n",
    "demet[2] = 5 # Hata verir çünkü immutable"
   ]
  },
  {
   "cell_type": "markdown",
   "metadata": {},
   "source": [
    "----------------------------------------------------------------------------------------------------------------------------\n",
    "### Anlatılan tüm veri tipleri"
   ]
  },
  {
   "cell_type": "code",
   "execution_count": 21,
   "metadata": {},
   "outputs": [
    {
     "name": "stdout",
     "output_type": "stream",
     "text": [
      "Sözlüğün içindeki liste:  [1, 2, 3]\n",
      "Sözlüğün içindeki listenin 2. indexi:  3\n",
      "Sözlüğün içindeki listenin 3. indexine 999 eklendi:  [1, 2, 3, 999]\n"
     ]
    }
   ],
   "source": [
    "integer_vt = 1\n",
    "float_vt = 1.1\n",
    "string_vt = \"1\"\n",
    "list_vt = [1, 1.1, \"1\"]\n",
    "tuple_vt = (1, 1.1, \"1\")\n",
    "set_vt = {1, 1.1, \"1\"}\n",
    "dictionary_vt = {\"integer_vt_in_dict\": 1, \n",
    "                 \"float_vt_in_dict\": 1.1, \n",
    "                 \"string_vt_in_dict\": \"1\", \n",
    "                 \"list_vt_in_dict\": [1,2,3], \n",
    "                 \"tuple_vt_in_dict\": (1,2,3),\n",
    "                 \"set_vt_in_dict\": {1, 2, 3}\n",
    "                }\n",
    "\n",
    "print(\"Sözlüğün içindeki liste: \", dictionary_vt[\"list_vt_in_dict\"])\n",
    "print(\"Sözlüğün içindeki listenin 2. indexi: \", dictionary_vt[\"list_vt_in_dict\"][2])\n",
    "\n",
    "dictionary_vt[\"list_vt_in_dict\"].insert(3, 999)\n",
    "print(\"Sözlüğün içindeki listenin 3. indexine 999 eklendi: \", dictionary_vt[\"list_vt_in_dict\"])"
   ]
  },
  {
   "cell_type": "markdown",
   "metadata": {},
   "source": [
    "## Koşullu Durumlar"
   ]
  },
  {
   "cell_type": "code",
   "execution_count": 22,
   "metadata": {},
   "outputs": [
    {
     "name": "stdout",
     "output_type": "stream",
     "text": [
      "b buyuk\n"
     ]
    }
   ],
   "source": [
    "a = 1\n",
    "b = 4\n",
    "c = 3\n",
    "\n",
    "if a>b:\n",
    "    print(\"a buyuk\")\n",
    "elif b>c:\n",
    "    print(\"b buyuk\")\n",
    "else:\n",
    "    print(\"c buyuk\")"
   ]
  },
  {
   "cell_type": "code",
   "execution_count": 24,
   "metadata": {},
   "outputs": [
    {
     "name": "stdout",
     "output_type": "stream",
     "text": [
      "b buyuk\n",
      "b buyuk\n",
      "c buyuk 2\n"
     ]
    }
   ],
   "source": [
    "# tüm if'leri sırayla dener\n",
    "\n",
    "a = 1\n",
    "b = 4\n",
    "c = 3\n",
    "\n",
    "if a>b:\n",
    "    print(\"a buyuk\")\n",
    "elif b>c:\n",
    "    print(\"b buyuk\")\n",
    "else:\n",
    "    print(\"c buyuk\")\n",
    "    \n",
    "if a>b:\n",
    "    print(\"a buyuk\")\n",
    "if b>c:\n",
    "    print(\"b buyuk\")\n",
    "if c>a:\n",
    "    print(\"c buyuk 2\")"
   ]
  },
  {
   "cell_type": "code",
   "execution_count": 25,
   "metadata": {},
   "outputs": [
    {
     "name": "stdout",
     "output_type": "stream",
     "text": [
      "y buyuk z\n",
      "x buyuk y\n"
     ]
    }
   ],
   "source": [
    "\n",
    "x = 5\n",
    "y = 4\n",
    "z = 3\n",
    "\n",
    "if x > y:\n",
    "    if y > z:\n",
    "        print(\"y buyuk z\")\n",
    "    print(\"x buyuk y\")"
   ]
  },
  {
   "cell_type": "code",
   "execution_count": 26,
   "metadata": {},
   "outputs": [
    {
     "name": "stdout",
     "output_type": "stream",
     "text": [
      "x en buyuk\n"
     ]
    }
   ],
   "source": [
    "x = 5\n",
    "y = 4\n",
    "z = 3\n",
    "\n",
    "if x > y > z:\n",
    "    print(\"x en buyuk\")"
   ]
  },
  {
   "cell_type": "code",
   "execution_count": 27,
   "metadata": {},
   "outputs": [
    {
     "name": "stdout",
     "output_type": "stream",
     "text": [
      "x en buyuk 2\n"
     ]
    }
   ],
   "source": [
    "x = 5\n",
    "y = 4\n",
    "z = 3\n",
    "\n",
    "# iki koşulda doğru olmalı\n",
    "if x > y and y > z:\n",
    "    print(\"x en buyuk 2\")"
   ]
  },
  {
   "cell_type": "code",
   "execution_count": 28,
   "metadata": {},
   "outputs": [
    {
     "name": "stdout",
     "output_type": "stream",
     "text": [
      "x veya y en buyuk\n"
     ]
    }
   ],
   "source": [
    "x = 5\n",
    "y = 4\n",
    "z = 3\n",
    "\n",
    "# iki koşuldan biri doğru olmalı\n",
    "if x > y or y > z:\n",
    "    print(\"x veya y en buyuk\")"
   ]
  },
  {
   "cell_type": "code",
   "execution_count": 29,
   "metadata": {},
   "outputs": [
    {
     "name": "stdout",
     "output_type": "stream",
     "text": [
      "p k'den küçük\n"
     ]
    }
   ],
   "source": [
    "p = 3\n",
    "k = 4\n",
    "m = 5\n",
    "\n",
    "print(\"p k'den büyük\") if p > k else print(\"p k'den küçük\")"
   ]
  },
  {
   "cell_type": "code",
   "execution_count": 30,
   "metadata": {},
   "outputs": [
    {
     "name": "stdout",
     "output_type": "stream",
     "text": [
      "ayni isim degil!\n"
     ]
    }
   ],
   "source": [
    "isim1 = \"Fatih\"\n",
    "isim2 = \"fatih\"\n",
    "\n",
    "if isim1 == isim2:\n",
    "    print(\"ayni isim\")\n",
    "else:\n",
    "    print(\"ayni isim degil!\")"
   ]
  },
  {
   "cell_type": "code",
   "execution_count": 31,
   "metadata": {},
   "outputs": [
    {
     "name": "stdout",
     "output_type": "stream",
     "text": [
      "ayni isim\n"
     ]
    }
   ],
   "source": [
    "isim3 = \"Fatih\"\n",
    "isim4 = \"Fatih\"\n",
    "\n",
    "if isim3 == isim4:\n",
    "    print(\"ayni isim\")\n",
    "else:\n",
    "    print(\"ayni isim degil!\")"
   ]
  },
  {
   "cell_type": "code",
   "execution_count": 32,
   "metadata": {},
   "outputs": [
    {
     "name": "stdout",
     "output_type": "stream",
     "text": [
      "icinde\n"
     ]
    }
   ],
   "source": [
    "isim5 = \"Fatih\"\n",
    "isim6 = \"Fatih Zor\"\n",
    "\n",
    "if isim5 in isim6:\n",
    "    print(\"icinde\")\n",
    "else:\n",
    "    print(\"icinde degil!\")"
   ]
  },
  {
   "cell_type": "code",
   "execution_count": 33,
   "metadata": {},
   "outputs": [
    {
     "name": "stdout",
     "output_type": "stream",
     "text": [
      "icinde degil!\n"
     ]
    }
   ],
   "source": [
    "isim5 = \"Fatih\"\n",
    "isim6 = \"Fatih Zor\"\n",
    "\n",
    "if \"Ata\" in isim6:\n",
    "    print(\"icinde\")\n",
    "else:\n",
    "    print(\"icinde degil!\")"
   ]
  }
 ],
 "metadata": {
  "kernelspec": {
   "display_name": "yaget",
   "language": "python",
   "name": "python3"
  },
  "language_info": {
   "codemirror_mode": {
    "name": "ipython",
    "version": 3
   },
   "file_extension": ".py",
   "mimetype": "text/x-python",
   "name": "python",
   "nbconvert_exporter": "python",
   "pygments_lexer": "ipython3",
   "version": "3.9.1"
  }
 },
 "nbformat": 4,
 "nbformat_minor": 2
}
