{
 "cells": [
  {
   "cell_type": "markdown",
   "metadata": {},
   "source": [
    "# Lesson 3: Functions (20.12.2023)"
   ]
  },
  {
   "cell_type": "code",
   "execution_count": 24,
   "metadata": {},
   "outputs": [
    {
     "name": "stdout",
     "output_type": "stream",
     "text": [
      "Fatih\n",
      "Ahmet\n",
      "Mehmet\n"
     ]
    }
   ],
   "source": [
    "def isim_yazdir(ad):\n",
    "    print(f\"{ad}\")\n",
    "\n",
    "isim_yazdir(\"Fatih\")\n",
    "isim_yazdir(\"Ahmet\")\n",
    "isim_yazdir(\"Mehmet\")"
   ]
  },
  {
   "cell_type": "code",
   "execution_count": 25,
   "metadata": {},
   "outputs": [
    {
     "name": "stdout",
     "output_type": "stream",
     "text": [
      "8\n"
     ]
    }
   ],
   "source": [
    "\n",
    "def toplama(a, b) -> int:\n",
    "    c = a + b\n",
    "    return c\n",
    "    \n",
    "sonuc = toplama(3,5)\n",
    "print(sonuc)"
   ]
  },
  {
   "cell_type": "code",
   "execution_count": 26,
   "metadata": {},
   "outputs": [
    {
     "name": "stdout",
     "output_type": "stream",
     "text": [
      "120\n"
     ]
    }
   ],
   "source": [
    "def carpma(a,b,c,d,e) -> float:\n",
    "    return a*b*c*d*e\n",
    "    \n",
    "sonuc = carpma(1,2,3,4,5)\n",
    "print(sonuc)"
   ]
  },
  {
   "cell_type": "code",
   "execution_count": 27,
   "metadata": {},
   "outputs": [
    {
     "name": "stdout",
     "output_type": "stream",
     "text": [
      "Fatih Zor yasi: 29\n",
      "Ahmet Test yasi: 14\n"
     ]
    }
   ],
   "source": [
    "def isim_soyisim_birlestir(isim: str, soyisim: str, yas: int = 14):\n",
    "    birlesim = isim + \" \" + soyisim + \" yasi: \" + str(yas)\n",
    "    return birlesim\n",
    "\n",
    "birle = isim_soyisim_birlestir(\"Fatih\",\"Zor\", 29)\n",
    "print(birle)\n",
    "\n",
    "birle2 = isim_soyisim_birlestir(\"Ahmet\", \"Test\")\n",
    "print(birle2)"
   ]
  },
  {
   "cell_type": "code",
   "execution_count": 28,
   "metadata": {},
   "outputs": [
    {
     "name": "stdout",
     "output_type": "stream",
     "text": [
      "fatih bu dersi gecti\n",
      "ahmet bu dersten kaldi\n",
      "mehmet bu dersi gecti\n",
      "mahmut bu dersten kaldi\n"
     ]
    }
   ],
   "source": [
    "ogrenciler = {\n",
    "    \"fatih\": 50,\n",
    "    \"ahmet\": 45,\n",
    "    \"mehmet\": 90,\n",
    "    \"mahmut\": 10    \n",
    "}\n",
    "\n",
    "def gecti_mi(isim, _not, gecme_notu = 50):\n",
    "    if _not >= gecme_notu:\n",
    "        print(f\"{isim} bu dersi gecti\")\n",
    "    else:\n",
    "        print(f\"{isim} bu dersten kaldi\")\n",
    "\n",
    "for key, value in ogrenciler.items():\n",
    "    gecti_mi(key, value)"
   ]
  },
  {
   "cell_type": "code",
   "execution_count": 29,
   "metadata": {},
   "outputs": [
    {
     "name": "stdout",
     "output_type": "stream",
     "text": [
      "fatih isimli ogrenci gecti\n",
      "fatih isimli ogrenci gecti\n",
      "ahmet isimli ogrenci gecti\n",
      "ahmet isimli ogrenci gecti\n",
      "mahmut isimli ogrenci gecti\n",
      "mahmut isimli ogrenci gecti\n",
      "mehmet isimli ogrenci kaldi\n",
      "mehmet isimli ogrenci kaldi\n",
      "kamil isimli ogrenci kaldi\n",
      "kamil isimli ogrenci kaldi\n"
     ]
    }
   ],
   "source": [
    "ogrenciler = {\n",
    "    \"fatih\": {\n",
    "        \"vize\": 100,\n",
    "        \"final\": 50\n",
    "    },\n",
    "    \"ahmet\": {\n",
    "        \"vize\": 80,\n",
    "        \"final\": 40,\n",
    "    },\n",
    "    \"mahmut\": {\n",
    "        \"vize\": 82,\n",
    "        \"final\": 36,\n",
    "    },\n",
    "    \"mehmet\": {\n",
    "        \"final\": 73,\n",
    "    },\n",
    "    \"kamil\": {\n",
    "        \"vize\": 59,\n",
    "    }\n",
    "}\n",
    "\n",
    "def hesapla(vize: int, final: int):\n",
    "    return vize * 0.40 + final * 0.60 \n",
    "\n",
    "def gecti_mi(hesaplanmis_not: float) -> bool:\n",
    "    if hesaplanmis_not >= 50:\n",
    "        return True\n",
    "\n",
    "    return False\n",
    "\n",
    "for ogrenci_key, ogrenci_value in ogrenciler.items():\n",
    "\n",
    "        sonuc = hesapla(ogrenci_value.get(\"vize\", 0), \n",
    "                        ogrenci_value.get(\"final\", 0))\n",
    "        \n",
    "        ogrenci_gecti_mi = gecti_mi(sonuc)\n",
    "        \n",
    "        # if gosterimi\n",
    "        if ogrenci_gecti_mi:\n",
    "            print(f\"{ogrenci_key} isimli ogrenci gecti\")\n",
    "        else:\n",
    "            print(f\"{ogrenci_key} isimli ogrenci kaldi\")\n",
    "        \n",
    "        # ustteki if ile aynı isi yapar\n",
    "        print(f\"{ogrenci_key} isimli ogrenci gecti\") if ogrenci_gecti_mi else print(f\"{ogrenci_key} isimli ogrenci kaldi\")\n",
    "            "
   ]
  },
  {
   "cell_type": "code",
   "execution_count": 30,
   "metadata": {},
   "outputs": [
    {
     "name": "stdout",
     "output_type": "stream",
     "text": [
      "3\n",
      "-1\n",
      "2\n",
      "0.5\n"
     ]
    }
   ],
   "source": [
    "# surekli calisan bir program\n",
    "# kullanicidan 2 sayi alir\n",
    "# sonra bu 2 sayiyi 4 işleme tabi tutar\n",
    "# ve sonuçları ekrana yazar\n",
    "\n",
    "def toplama(r1, r2):\n",
    "    print(str(r1+r2))\n",
    "\n",
    "def cikarma(a, b):\n",
    "    print(str(a-b))\n",
    "\n",
    "def carpma(x, y):\n",
    "    print(str(x*y))\n",
    "\n",
    "def bolme(p, q):\n",
    "    print(str(p/q))\n",
    "\n",
    "while True:\n",
    "    rakam_1 = int(input(\"Birinci rakami giriniz: \"))\n",
    "    rakam_2 = int(input(\"İkinci rakami giriniz: \"))\n",
    "    \n",
    "    toplama(rakam_1, rakam_2)\n",
    "    cikarma(rakam_1, rakam_2)\n",
    "    carpma(rakam_1, rakam_2)\n",
    "    bolme(rakam_1, rakam_2)\n",
    "    \n",
    "    break"
   ]
  },
  {
   "cell_type": "code",
   "execution_count": 31,
   "metadata": {},
   "outputs": [
    {
     "name": "stdout",
     "output_type": "stream",
     "text": [
      "2\n"
     ]
    }
   ],
   "source": [
    "\n",
    "def toplama(r1: int or float, r2: int or float):\n",
    "    print(str(r1+r2))\n",
    "\n",
    "def cikarma(a, b):\n",
    "    print(str(a-b))\n",
    "\n",
    "def carpma(x, y):\n",
    "    print(str(x*y))\n",
    "\n",
    "def bolme(p, q):\n",
    "    print(str(p/q))\n",
    "\n",
    "while True:\n",
    "    soru_bilgisi = \"\"\"\n",
    "Toplama icin: 1 \n",
    "Cikarma icin: 2 \n",
    "Carpma icin: 3 \n",
    "Bolme icin: 4 \n",
    "Yapmak istedigin islemi secin: \"\"\"\n",
    "    \n",
    "    rakam_1 = int(input(\"Birinci rakami giriniz: \"))\n",
    "    rakam_2 = int(input(\"İkinci rakami giriniz: \"))\n",
    "    islem = int(input(soru_bilgisi))\n",
    "    \n",
    "    if islem in (1,2,3,4):\n",
    "        if islem == 1:\n",
    "            toplama(rakam_1, rakam_2)\n",
    "        elif islem == 2:\n",
    "            cikarma(rakam_1, rakam_2)\n",
    "        elif islem == 3:\n",
    "            carpma(rakam_1, rakam_2)\n",
    "        elif islem == 4:\n",
    "            bolme(rakam_1, rakam_2)\n",
    "    \n",
    "    else:\n",
    "        break"
   ]
  },
  {
   "cell_type": "code",
   "execution_count": 32,
   "metadata": {},
   "outputs": [
    {
     "name": "stdout",
     "output_type": "stream",
     "text": [
      "Uzunluk = 12 \n",
      "Alan = 9 \n",
      "Hacim = 27\n"
     ]
    }
   ],
   "source": [
    "# kullanicidan bir karenin kenar boyutlarını alip \n",
    "# hacmini uzunluk ve alanini hesaplayan programı yazalim\n",
    "\n",
    "def hesaplayici(kenar_uzunlugu) -> tuple:\n",
    "    uzunluk = kenar_uzunlugu * 4\n",
    "    alan = kenar_uzunlugu ** 2\n",
    "    hacim = kenar_uzunlugu ** 3\n",
    "    \n",
    "    return uzunluk, alan, hacim\n",
    "\n",
    "kenar = int(input(\"Lutfen kenar uzunlugunu giriniz: \"))\n",
    "u, a, h = hesaplayici(kenar)\n",
    "print(f\"Uzunluk = {u} \\nAlan = {a} \\nHacim = {h}\")\n",
    "\n"
   ]
  }
 ],
 "metadata": {
  "kernelspec": {
   "display_name": "yaget",
   "language": "python",
   "name": "python3"
  },
  "language_info": {
   "codemirror_mode": {
    "name": "ipython",
    "version": 3
   },
   "file_extension": ".py",
   "mimetype": "text/x-python",
   "name": "python",
   "nbconvert_exporter": "python",
   "pygments_lexer": "ipython3",
   "version": "3.9.1"
  }
 },
 "nbformat": 4,
 "nbformat_minor": 2
}
