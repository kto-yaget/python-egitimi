{
 "cells": [
  {
   "cell_type": "markdown",
   "metadata": {},
   "source": [
    "# LESSON-2 (18.12.2023)\n",
    "\n",
    "## Döngüler\n",
    "\n",
    "\n",
    "Döngüler, belirli bir işlem veya işlemleri belirli bir koşul sağlandığı sürece tekrarlayan yapıları ifade eder. Bu yapılar, belirli bir koşul sağlandığı sürece kod bloğunu veya komutları tekrar etme olanağı sağlarlar. Python'da döngülerin iki çeşidi bulunmaktadır. Bunlardan birincisi for döngüsü, ikincisi ise while döngüsüdür.\n",
    "\n",
    "### For Döngüsü\n",
    "\n",
    "Belirli bir başlangıç noktasından başlayarak belirli bir koşula kadar olan bir aralıkta işlem yapmak için kullanılır. Örneğin, bir liste elemanlarını tek tek kontrol etmek veya belirli bir aralıktaki sayıları işlemek için kullanılabilir.\n"
   ]
  },
  {
   "cell_type": "code",
   "execution_count": null,
   "metadata": {},
   "outputs": [],
   "source": [
    "for i in range(5):\n",
    "    print(i)"
   ]
  },
  {
   "cell_type": "markdown",
   "metadata": {},
   "source": [
    "\n",
    "\n",
    "#### Range nedir?\n",
    "\n",
    "Python'da `range()` fonksiyonu, belirtilen aralıkta sayı dizileri oluşturmak için kullanılan bir fonksiyondur. Bu fonksiyon, genellikle döngülerde veya liste oluşturma işlemlerinde kullanılır.\n",
    "\n",
    "`range()` fonksiyonu genellikle üç parametre alabilir:\n",
    "\n",
    "Başlangıç (start): Sayı dizisinin başlangıç değeri. Varsayılan olarak 0'dır.\n",
    "Bitiş (stop): Sayı dizisinin son değeri (bu sayı dahil değil). Bu değer dizi içinde olmayacaktır.\n",
    "Adım (step): Sayıların artış miktarı. Varsayılan olarak 1'dir.\n",
    "Bu üç parametre kullanılarak belirli bir aralıktaki sayı dizilerini oluşturabilirsiniz. `range()` fonksiyonu, bir sayı dizisi üretmez, ancak belirtilen aralıktaki sayıları temsil eden bir nesne döndürür. Bu nesne genellikle döngülerde kullanılır veya list() fonksiyonu kullanılarak bir liste oluşturulabilir."
   ]
  },
  {
   "cell_type": "code",
   "execution_count": null,
   "metadata": {},
   "outputs": [],
   "source": [
    "for i in range(5):\n",
    "    print(i)\n",
    "# Çıktı: 0, 1, 2, 3, 4\n"
   ]
  },
  {
   "cell_type": "code",
   "execution_count": null,
   "metadata": {},
   "outputs": [],
   "source": [
    "for i in range(1, 10, 2):\n",
    "    print(i)\n",
    "# Çıktı: 1, 3, 5, 7, 9\n"
   ]
  },
  {
   "cell_type": "code",
   "execution_count": null,
   "metadata": {},
   "outputs": [],
   "source": [
    "my_list = list(range(3, 15, 3))\n",
    "print(my_list)\n",
    "# Çıktı: [3, 6, 9, 12]\n"
   ]
  },
  {
   "cell_type": "markdown",
   "metadata": {},
   "source": [
    "\n",
    "\n",
    "#### For Döngüsü Örnekleri\n",
    "\n",
    "Liste elemanlarını tek tek yazdırmak için kullanılabilir.\n",
    "\n"
   ]
  },
  {
   "cell_type": "code",
   "execution_count": null,
   "metadata": {},
   "outputs": [],
   "source": [
    "liste = [1, 2, 3, 4, 5]\n",
    "for i in liste:\n",
    "    print(i)"
   ]
  },
  {
   "cell_type": "markdown",
   "metadata": {},
   "source": [
    "\n",
    "\n",
    "String elemanlarını tek tek yazdırmak için kullanılabilir.\n"
   ]
  },
  {
   "cell_type": "code",
   "execution_count": null,
   "metadata": {},
   "outputs": [],
   "source": [
    "for harf in \"Python\":\n",
    "    print(harf)"
   ]
  },
  {
   "cell_type": "markdown",
   "metadata": {},
   "source": [
    "\n",
    "### While Döngüsü\n",
    "\n",
    "Belirli bir koşul sağlandığı sürece işlem yapmak için kullanılır. Örneğin, bir sayıyı 2'ye bölerek sonucun 1'den büyük olması durumunda işlemi tekrarlamak için kullanılabilir. "
   ]
  },
  {
   "cell_type": "code",
   "execution_count": null,
   "metadata": {},
   "outputs": [],
   "source": [
    "sayi = 10\n",
    "while sayi > 5:\n",
    "    print(sayi)\n",
    "    sayi = sayi - 1"
   ]
  },
  {
   "cell_type": "markdown",
   "metadata": {},
   "source": [
    "\n",
    "#### While Döngüsü Örnekleri\n",
    "\n",
    "Bir sayıyı 2'ye bölerek sonucun 1'den büyük olması durumunda işlemi tekrarlamak için kullanılabilir.\n"
   ]
  },
  {
   "cell_type": "code",
   "execution_count": null,
   "metadata": {},
   "outputs": [],
   "source": [
    "\n",
    "sayi = 10\n",
    "while sayi > 1:\n",
    "    sayi = sayi / 2\n",
    "    print(sayi)"
   ]
  },
  {
   "cell_type": "code",
   "execution_count": null,
   "metadata": {},
   "outputs": [],
   "source": [
    "\n",
    "liste = [\"fatih\", \"yaget\", \"egitim\"]\n",
    "\n",
    "sayi = 0\n",
    "\n",
    "while len(liste) > sayi:\n",
    "    print(liste[sayi])\n",
    "    sayi = sayi + 1"
   ]
  },
  {
   "cell_type": "markdown",
   "metadata": {},
   "source": [
    "\n",
    "#### Len Nedir?\n",
    "\n",
    "Python'da `len()` fonksiyonu, bir nesnenin uzunluğunu döndürmek için kullanılan bir fonksiyondur. Bu fonksiyon, genellikle döngülerde veya koşullu ifadelerde kullanılır.\n"
   ]
  },
  {
   "cell_type": "code",
   "execution_count": null,
   "metadata": {},
   "outputs": [],
   "source": [
    "\n",
    "metin = \"KTO Yaget Python Eğitimi\"\n",
    "sayi = 0\n",
    "\n",
    "while len(metin) > sayi:\n",
    "    print(metin[sayi])\n",
    "    sayi = sayi + 1"
   ]
  },
  {
   "cell_type": "markdown",
   "metadata": {},
   "source": [
    "\n",
    "### Break ve Continue\n",
    "\n",
    "Döngülerde kullanılan iki önemli komut vardır. Bunlardan birincisi break, ikincisi ise continue komutudur.\n",
    "\n",
    "#### Break\n",
    "\n",
    "Döngüyü sonlandırmak için kullanılır. Örneğin, bir sayıyı 2'ye bölerek sonucun 1'den büyük olması durumunda işlemi tekrarlamak için kullanılabilir.\n",
    "\n"
   ]
  },
  {
   "cell_type": "code",
   "execution_count": null,
   "metadata": {},
   "outputs": [],
   "source": [
    "sayi = 10\n",
    "while True:\n",
    "    sayi = sayi / 2\n",
    "    if sayi < 1:\n",
    "        break\n",
    "    print(sayi)\n"
   ]
  },
  {
   "cell_type": "markdown",
   "metadata": {},
   "source": [
    "\n",
    "#### Continue\n",
    "\n",
    "Döngüdeki bir adımı atlamak için kullanılır. Örneğin, bir sayıyı 2'ye bölerek sonucun 1'den büyük olması durumunda işlemi tekrarlamak için kullanılabilir.\n"
   ]
  },
  {
   "cell_type": "code",
   "execution_count": null,
   "metadata": {},
   "outputs": [],
   "source": [
    "\n",
    "sayi = 10\n",
    "while True:\n",
    "    sayi = sayi / 2\n",
    "    if sayi == 5:\n",
    "        continue\n",
    "    \n",
    "    elif sayi < 1:\n",
    "        break\n",
    "    \n",
    "    else:\n",
    "        print(sayi)"
   ]
  }
 ],
 "metadata": {
  "kernelspec": {
   "display_name": "yaget",
   "language": "python",
   "name": "python3"
  },
  "language_info": {
   "codemirror_mode": {
    "name": "ipython",
    "version": 3
   },
   "file_extension": ".py",
   "mimetype": "text/x-python",
   "name": "python",
   "nbconvert_exporter": "python",
   "pygments_lexer": "ipython3",
   "version": "3.9.1"
  }
 },
 "nbformat": 4,
 "nbformat_minor": 2
}
