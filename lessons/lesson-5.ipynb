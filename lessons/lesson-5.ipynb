{
 "cells": [
  {
   "cell_type": "markdown",
   "metadata": {},
   "source": [
    "# Kütüphaneler (03.01.2024)\n",
    "\n",
    "Python'da bir kütüphane, modüllerin (modüller: Python'da fonksiyonlar, sınıflar ve değişkenler içeren dosyalar) ve paketlerin (paketi: birden fazla modülü içeren bir klasör) bir araya gelmesiyle oluşur. Örneğin, veritabanı işlemleri yapmak için sqlite3 kütüphanesi, web geliştirme için Flask veya Django gibi kütüphaneler mevcuttur.\n",
    "\n",
    "Kütüphaneler, çeşitli alanlarda kullanılabilen farklı işlevlere sahip olabilir. Örneğin:\n",
    "\n",
    "Veri işleme kütüphaneleri: Pandas, NumPy gibi kütüphaneler veri analizi, işleme ve manipülasyonu için kullanılır.\n",
    "Veri görselleştirme kütüphaneleri: Matplotlib, Seaborn gibi kütüphaneler veri görselleştirmesi yapmak için kullanılır.\n",
    "Makine öğrenimi kütüphaneleri: TensorFlow, Scikit-learn gibi kütüphaneler makine öğrenimi ve yapay zeka uygulamaları için kullanılır.\n",
    "Web geliştirme kütüphaneleri: Flask, Django gibi kütüphaneler web uygulamaları geliştirmek için kullanılır.\n",
    "Kütüphaneler, Python dilinin zenginliğini ve esnekliğini artırarak, geliştiricilere farklı ihtiyaçları için hızlı çözümler sunar. Kütüphanelerin kullanılması, belirli bir problemi çözmek için tekrar tekrar kod yazmak yerine, mevcut çözümleri kullanarak işleri daha hızlı ve verimli bir şekilde yapmayı sağlar. Bu, yazılım geliştirme sürecini hızlandırır ve kodun daha organize olmasını sağlar.\n",
    "\n",
    "\n",
    "## Python Paket Yöneticisi (pip) \n",
    "\n",
    "Python'da kütüphaneleri kurmak için pip (pip: Python paket yöneticisi) kullanılır. pip, Python'da paket yöneticisi olarak kullanılan bir araçtır. Bu araç, Python'da dış kaynaklı kütüphanelerin (paketlerin) kurulumunu, yönetimini ve kaldırılmasını sağlar. İhtiyaç duyduğunuz kütüphaneleri bulabilir, kurabilir ve güncelleyebilirsiniz. İşte pip modülünün detaylı çalışma prensibi:\n",
    "\n",
    "Kurulum ve Başlatma:\n",
    "Python 3.4 ve sonrası sürümlerde, pip genellikle Python ile birlikte gelir. Eğer elinizde yoksa Python'un resmi web sitesinden veya paket yöneticisi aracılığıyla yükleyebilirsiniz. Terminal veya komut istemcisine pip komutunu yazarak pip'in çalışıp çalışmadığını kontrol edebilirsiniz.\n",
    "\n",
    "Kullanım:\n",
    "Temel kullanım şablonu şu şekildedir:\n",
    "\n",
    "`pip install paket_adi`: Belirtilen paket_adi adlı paketi yükler.\n",
    "`pip uninstall paket_adi`: Belirtilen paket_adi adlı paketi kaldırır.\n",
    "`pip freeze`: Yüklü tüm paketleri ve sürümlerini listeler.\n",
    "`pip list`: Yüklü paketleri listeler.\n",
    "`pip search aranan_kelime`: Belirtilen aranan_kelime ile eşleşen paketleri arar.\n",
    "Kurulum ve Güncelleme:\n",
    "pip install komutu, belirtilen kütüphaneyi internetten indirir ve kurulumunu gerçekleştirir. Örneğin: `pip install numpy` komutu NumPy kütüphanesini yükler.\n",
    "\n",
    "Güncelleme yapmak için `pip install --upgrade paket_adi` komutunu kullanabilirsiniz. Örneğin: `pip install --upgrade numpy` komutu NumPy kütüphanesini günceller.\n",
    "\n",
    "Başka Kaynaklardan Yükleme:\n",
    "pip, PyPI (Python Package Index) adlı resmi depo dışında da farklı kaynaklardan paketleri yüklemenize olanak tanır. Örneğin GitHub, GitLab gibi git deposundan veya yerel dosyalardan kurulum yapabilirsiniz.\n",
    "\n",
    "GitHub'dan yükleme örneği: `pip install git+https://github.com/kullanici_adi/proje_adresi.git`\n",
    "\n",
    "Sanal Ortamlar ve İzolasyon:\n",
    "pip, sanal ortamlar (virtual environments) ile de kullanılabilir. Sanal ortamlar, proje bazında bağımlılıkları izole etmenizi ve farklı projelerde farklı paket sürümlerini yönetmenizi sağlar. virtualenv veya venv gibi araçlarla sanal ortamlar oluşturulabilir ve pip bu ortamlarda kullanılabilir.\n",
    "\n",
    "pip, Python topluluğunun sürekli geliştirdiği ve güncellediği bir araçtır. Kullanımı oldukça esnektir ve geniş bir paket deposu olan PyPI'den (Python Package Index) çeşitli kütüphaneleri ve araçları kolaylıkla yönetmenize olanak tanır.\n"
   ]
  },
  {
   "cell_type": "markdown",
   "metadata": {},
   "source": [
    "Python'da kütüphaneler, genellikle import anahtar kelimesi kullanılarak kullanılır. İşte kütüphaneleri kullanma süreciyle ilgili temel bilgiler:\n",
    "\n",
    "Kütüphaneleri kullanmak için öncelikle import anahtar kelimesi kullanılır. Örneğin: `import numpy` komutu NumPy kütüphanesini kullanılabilir hale getirir."
   ]
  },
  {
   "cell_type": "code",
   "execution_count": 1,
   "metadata": {},
   "outputs": [
    {
     "name": "stdout",
     "output_type": "stream",
     "text": [
      "4.0\n"
     ]
    }
   ],
   "source": [
    "import math\n",
    "\n",
    "# math kütüphanesindeki bir fonksiyonu kullanma\n",
    "x = math.sqrt(16)\n",
    "print(x)  # 4.0 çıktısını verecektir\n"
   ]
  },
  {
   "cell_type": "code",
   "execution_count": 2,
   "metadata": {},
   "outputs": [
    {
     "name": "stdout",
     "output_type": "stream",
     "text": [
      "5.0\n"
     ]
    }
   ],
   "source": [
    "# belirli bir fonksiyonu kullanma\n",
    "\n",
    "from math import sqrt\n",
    "\n",
    "# Sadece sqrt fonksiyonunu içe aktarır, \"math.\" ön eke gerek yok\n",
    "y = sqrt(25)\n",
    "print(y)  # 5.0 çıktısını verecektir"
   ]
  },
  {
   "cell_type": "code",
   "execution_count": 3,
   "metadata": {},
   "outputs": [
    {
     "name": "stdout",
     "output_type": "stream",
     "text": [
      "6.0\n"
     ]
    }
   ],
   "source": [
    "# alias kullanma\n",
    "\n",
    "from math import sqrt as karekok\n",
    "\n",
    "# sqrt yerine karekok kullanabiliriz\n",
    "z = karekok(36)\n",
    "print(z)  # 6.0 çıktısını verecektir\n"
   ]
  },
  {
   "cell_type": "markdown",
   "metadata": {},
   "source": [
    "\n",
    "\n",
    "## Error Handling (Hata Yönetimi) \n",
    "\n",
    "Hata yönetimi, programların çalışması sırasında ortaya çıkan hataları yakalamak ve bunlara uygun bir şekilde müdahale etmek için kullanılan bir programlama tekniğidir. Hata yönetimi, programların daha güvenli ve sağlam çalışmasını sağlar. Hata yönetimi, programların daha güvenli ve sağlam çalışmasını sağlar. Hata yönetimi, programların daha güvenli ve sağlam çalışmasını sağlar. Hata yönetimi, programların daha güvenli ve sağlam çalışmasını sağlar. Hata yönetimi, programların daha güvenli ve sağlam çalışmasını sağlar. Hata yönetimi, programların daha güvenli ve sağlam çalışmasını sağlar. Hata yönetimi, programların daha güvenli ve sağlam çalışmasını sağlar. Hata yönetimi, programların daha güvenli ve sağlam çalışmasını sağlar. Hata yönetimi, programların daha güvenli ve sağlam çalışmasını sağlar.\n",
    "\n",
    "Python'da hata yönetimi veya error handling, beklenmeyen durumlarla başa çıkmanın bir yoludur. try, except, finally, else ve raise gibi ifadeleri kullanarak hataları ele alabiliriz. İşte bu kavramı örneklerle açıklayalım:\n",
    "\n"
   ]
  },
  {
   "cell_type": "markdown",
   "metadata": {},
   "source": [
    "\n",
    "\n",
    "### Temel Hata Yakalama (Basic Error Handling)\n",
    "\n",
    "```python\n",
    "\n",
    "try:\n",
    "    # Potansiyel olarak hata verebilecek kod bloğu\n",
    "    sayi = int(input(\"Bir sayı girin: \"))\n",
    "    sonuc = 10 / sayi\n",
    "    print(\"Sonuç:\", sonuc)\n",
    "except ZeroDivisionError:\n",
    "    print(\"Sıfıra bölme hatası!\")\n",
    "except ValueError:\n",
    "    print(\"Geçersiz sayı girişi!\")\n",
    "\n",
    "```\n",
    "\n",
    "Bu örnekte, try bloğu içinde kullanıcıdan sayı girişi alınıyor ve ardından bu sayıyı kullanarak bir işlem yapılıyor (10'a bölmek).\n",
    "\n",
    "Eğer kullanıcı sıfır girerse ZeroDivisionError, sayı yerine başka bir şey girerse ValueError hatası alınabilir.\n",
    "\n",
    "Her hatanın farklı bir except bloğu içinde ele alınması hataların özelleştirilmiş bir şekilde işlenmesini sağlar.\n"
   ]
  },
  {
   "cell_type": "markdown",
   "metadata": {},
   "source": [
    "\n",
    "\n",
    "### Genel Hata Yakalama (Catching General Errors)\n",
    "\n",
    "```python\n",
    "\n",
    "try:\n",
    "    dosya = open(\"olmayan_dosya.txt\", \"r\")\n",
    "    dosya.write(\"Bu dosyaya yazılmaya çalışılıyor.\")\n",
    "except Exception as e:\n",
    "    print(\"Hata oluştu:\", e)\n",
    "finally:\n",
    "    dosya.close()\n",
    "\n",
    "```\n",
    "\n",
    "Bu örnekte, open fonksiyonu bir dosyayı okuma modunda açmaya çalışıyor ancak dosya mevcut olmadığı için FileNotFoundError hatası alınabilir.\n",
    "\n",
    "`except Exception as e` ifadesi, herhangi bir genel hata durumunda e değişkenine hatayı atar ve hatanın detaylarını gösterir.\n",
    "\n",
    "finally bloğu, her durumda çalışır. Bu örnekte, dosya ne olursa olsun kapatılır."
   ]
  },
  {
   "cell_type": "markdown",
   "metadata": {},
   "source": [
    "\n",
    "\n",
    "### Hata Oluşturma (Raising an Error)\n",
    "\n",
    "```python\n",
    "\n",
    "def bolme(a, b):\n",
    "    if b == 0:\n",
    "        raise ValueError(\"Sıfıra bölme hatası!\")\n",
    "    return a / b\n",
    "\n",
    "try:\n",
    "    sonuc = bolme(10, 0)\n",
    "except ValueError as e:\n",
    "    print(\"Hata oluştu:\", e)\n",
    "\n",
    "\n",
    "```\n",
    "\n",
    "bolme fonksiyonu, sıfıra bölme durumunda özel olarak bir ValueError hatası oluşturur.\n",
    "\n",
    "try-except bloğunda, fonksiyon sıfıra bölme hatası oluşturursa bu hata ele alınır ve özel bir mesaj yazdırılır.\n",
    "\n",
    "Hata yönetimi, beklenmeyen durumları ele alarak programın daha sağlam ve kullanıcı dostu olmasını sağlar. Bu, programların daha güvenilir olmasını ve kullanıcıların programın anlaşılabilir hata mesajlarıyla karşılaşmasını sağlar."
   ]
  }
 ],
 "metadata": {
  "kernelspec": {
   "display_name": "yaget",
   "language": "python",
   "name": "python3"
  },
  "language_info": {
   "codemirror_mode": {
    "name": "ipython",
    "version": 3
   },
   "file_extension": ".py",
   "mimetype": "text/x-python",
   "name": "python",
   "nbconvert_exporter": "python",
   "pygments_lexer": "ipython3",
   "version": "3.9.1"
  }
 },
 "nbformat": 4,
 "nbformat_minor": 2
}
