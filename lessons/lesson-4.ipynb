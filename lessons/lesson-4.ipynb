{
 "cells": [
  {
   "cell_type": "markdown",
   "metadata": {},
   "source": [
    "# String Methods (27.12.2023)\n",
    "\n",
    "Substring işlemleri, bir dizgiyi (string) parçalara bölmek veya belirli bir alt dizesini almak için kullanılır. Python'da bir stringin belirli bir kısmını alma işlemi dilimleme (slicing) adı verilen yöntemle gerçekleştirilir.\n",
    "\n"
   ]
  },
  {
   "cell_type": "markdown",
   "metadata": {},
   "source": [
    "\n",
    "## Dilimleme (Slicing) ile Substring Alma:\n",
    "Python'da string dilimleme işlemi string[start:stop:step] şeklinde yapılır.\n",
    "\n",
    "start: Dilimlemenin başlangıç indeksi. Bu indeksteki karakter dilimlenen parçanın başlangıcı olur (dahil).\n",
    "stop: Dilimlemenin bitiş indeksi. Bu indeks, dilimlenen parçanın sonunu oluşturur (hariç).\n",
    "step (opsiyonel): Karakterler arasındaki adım miktarını belirtir.\n",
    "Örneklerle göstermek gerekirse:\n",
    "\n"
   ]
  },
  {
   "cell_type": "code",
   "execution_count": 1,
   "metadata": {},
   "outputs": [
    {
     "name": "stdout",
     "output_type": "stream",
     "text": [
      "Python\n",
      "Python\n",
      "Programlama\n",
      "lama\n",
      "Pto rgalm\n",
      "amalmargorP nohtyP\n"
     ]
    }
   ],
   "source": [
    "# Örnek bir string\n",
    "string_ornek = \"Python Programlama\"\n",
    "\n",
    "# Belirli bir aralıktaki karakterleri alma\n",
    "substring_1 = string_ornek[0:6]  # 0'dan 6'ya kadar (6 hariç)\n",
    "print(substring_1)  # Çıktı: Python\n",
    "\n",
    "# İlk 6 karakteri alma (0'dan başlayarak 6'ya kadar)\n",
    "substring_2 = string_ornek[:6]\n",
    "print(substring_2)  # Çıktı: Python\n",
    "\n",
    "# 7. karakterden sonraki kısmı alma\n",
    "substring_3 = string_ornek[7:]\n",
    "print(substring_3)  # Çıktı: Programlama\n",
    "\n",
    "# Son 4 karakteri alma\n",
    "substring_4 = string_ornek[-4:]\n",
    "print(substring_4)  # Çıktı: mama\n",
    "\n",
    "# İkişer atlayarak stringi alma\n",
    "substring_5 = string_ornek[::2]\n",
    "print(substring_5)  # Çıktı: Pto rgalm\n",
    "\n",
    "# Stringi ters çevirme\n",
    "substring_6 = string_ornek[::-1]\n",
    "print(substring_6)  # Çıktı: amalmargorP nohtyP"
   ]
  },
  {
   "cell_type": "markdown",
   "metadata": {},
   "source": [
    "\n",
    "## find() ve index() Metodları ile Substring Bulma:\n",
    "\n",
    "find() ve index() metotları, bir string içindeki alt stringi bulmak için kullanılır. Bu metotlar, aranan alt stringin ilk indeksini döndürür. Eğer aranan alt string bulunamazsa find() metodu -1 değerini döndürürken, index() metodu ValueError hatası fırlatır."
   ]
  },
  {
   "cell_type": "code",
   "execution_count": 2,
   "metadata": {},
   "outputs": [
    {
     "name": "stdout",
     "output_type": "stream",
     "text": [
      "7\n",
      "14\n"
     ]
    }
   ],
   "source": [
    "# Örnek bir string\n",
    "string_ornek = \"Python Programlama\"\n",
    "\n",
    "# Alt dize bulma\n",
    "index_1 = string_ornek.find(\"Program\")\n",
    "print(index_1)  # Çıktı: 7\n",
    "\n",
    "index_2 = string_ornek.index(\"lama\")\n",
    "print(index_2)  # Çıktı: 14"
   ]
  },
  {
   "cell_type": "markdown",
   "metadata": {},
   "source": [
    "\n",
    "\n",
    "## String Metodları \n",
    "\n",
    "\n",
    "### upper() ve lower() Metodları ile String Büyütme ve Küçültme:\n",
    "\n",
    "Bu metod, stringi büyük harfe dönüştürmek için kullanılır. lower() metodu ise stringi küçük harfe dönüştürür."
   ]
  },
  {
   "cell_type": "code",
   "execution_count": 3,
   "metadata": {},
   "outputs": [
    {
     "name": "stdout",
     "output_type": "stream",
     "text": [
      "PYTHON PROGRAMLAMA\n"
     ]
    }
   ],
   "source": [
    "string_ornek = \"python programlama\"\n",
    "buyuk_harfler = string_ornek.upper()\n",
    "print(buyuk_harfler)  # Çıktı: PYTHON PROGRAMLAMA"
   ]
  },
  {
   "cell_type": "code",
   "execution_count": 4,
   "metadata": {},
   "outputs": [
    {
     "name": "stdout",
     "output_type": "stream",
     "text": [
      "python programlama\n"
     ]
    }
   ],
   "source": [
    "string_ornek = \"PYTHON PROGRAMLAMA\"\n",
    "kucuk_harfler = string_ornek.lower()\n",
    "print(kucuk_harfler)  # Çıktı: python programlama"
   ]
  },
  {
   "cell_type": "markdown",
   "metadata": {},
   "source": [
    "\n",
    "### capitalize() ve title() Metodları ile String Başlıklarını Büyütme:\n",
    "\n",
    "capitalize() metodu, stringin ilk harfini büyük harfe dönüştürür. title() metodu ise stringin her kelimesinin ilk harfini büyük harfe dönüştürür."
   ]
  },
  {
   "cell_type": "code",
   "execution_count": null,
   "metadata": {},
   "outputs": [],
   "source": [
    "string_ornek = \"python programlama\"\n",
    "bas_harf_buyuk = string_ornek.capitalize()\n",
    "print(bas_harf_buyuk)  # Çıktı: Python programlama\n"
   ]
  },
  {
   "cell_type": "code",
   "execution_count": null,
   "metadata": {},
   "outputs": [],
   "source": [
    "string_ornek = \"python programlama\"\n",
    "her_kelime_bas_harf = string_ornek.title()\n",
    "print(her_kelime_bas_harf)  # Çıktı: Python Programlama\n"
   ]
  },
  {
   "cell_type": "markdown",
   "metadata": {},
   "source": [
    "\n",
    "### count() Metodu ile String İçindeki Alt String Sayısını Bulma:\n",
    "\n",
    "Bu metod, bir string içindeki alt stringin kaç kez geçtiğini bulmak için kullanılır."
   ]
  },
  {
   "cell_type": "code",
   "execution_count": null,
   "metadata": {},
   "outputs": [],
   "source": [
    "string_ornek = \"python programlama çok eğlencelidir. python öğrenmek kolaydır.\"\n",
    "sayi = string_ornek.count(\"python\")\n",
    "print(sayi)  # Çıktı: 2\n"
   ]
  },
  {
   "cell_type": "markdown",
   "metadata": {},
   "source": [
    "\n",
    "### replace() Metodu ile String İçindeki Alt Stringleri Değiştirme:\n",
    "\n",
    "Bu metod, bir string içindeki alt stringleri değiştirmek için kullanılır."
   ]
  },
  {
   "cell_type": "code",
   "execution_count": 6,
   "metadata": {},
   "outputs": [
    {
     "name": "stdout",
     "output_type": "stream",
     "text": [
      "JavaScript çok güçlü bir dil\n"
     ]
    }
   ],
   "source": [
    "string_ornek = \"Python çok güçlü bir dil\"\n",
    "yeni_string = string_ornek.replace(\"Python\", \"JavaScript\")\n",
    "print(yeni_string)  # Çıktı: JavaScript çok güçlü bir dil\n"
   ]
  },
  {
   "cell_type": "code",
   "execution_count": 5,
   "metadata": {},
   "outputs": [
    {
     "name": "stdout",
     "output_type": "stream",
     "text": [
      "JavaScript çok güçlü bir dil, Python\n"
     ]
    }
   ],
   "source": [
    "string_ornek = \"Python çok güçlü bir dil, Python\"\n",
    "yeni_string = string_ornek.replace(\"Python\", \"JavaScript\", 1)\n",
    "print(yeni_string)  # Çıktı: JavaScript çok güçlü bir dil, Python"
   ]
  },
  {
   "cell_type": "markdown",
   "metadata": {},
   "source": [
    "\n",
    "### split() Metodu ile Stringi Parçalara Ayırma:\n",
    "\n",
    "Bu metod, bir stringi belirtilen karakterden böler ve böldüğü parçaları bir liste olarak döndürür."
   ]
  },
  {
   "cell_type": "code",
   "execution_count": 8,
   "metadata": {},
   "outputs": [
    {
     "name": "stdout",
     "output_type": "stream",
     "text": [
      "['Python', 'Programlama', 'Dili']\n"
     ]
    }
   ],
   "source": [
    "string_ornek = \"Python,Programlama,Dili\"\n",
    "liste = string_ornek.split(\",\")\n",
    "print(liste)  # Çıktı: ['Python', 'Programlama', 'Dili']\n"
   ]
  },
  {
   "cell_type": "code",
   "execution_count": 7,
   "metadata": {},
   "outputs": [
    {
     "name": "stdout",
     "output_type": "stream",
     "text": [
      "['Python', 'Programlama,Dili']\n"
     ]
    }
   ],
   "source": [
    "string_ornek = \"Python,Programlama,Dili\"\n",
    "liste = string_ornek.split(\",\", 1)\n",
    "print(liste)  # Çıktı: ['Python', 'Programlama,Dili']\n"
   ]
  },
  {
   "cell_type": "markdown",
   "metadata": {},
   "source": [
    "\n",
    "### join() Metodu ile Stringleri Birleştirme:\n",
    "\n",
    "Bu metod, bir string listesini birleştirmek için kullanılır."
   ]
  },
  {
   "cell_type": "code",
   "execution_count": 9,
   "metadata": {},
   "outputs": [
    {
     "name": "stdout",
     "output_type": "stream",
     "text": [
      "Python,Programlama,Dili\n"
     ]
    }
   ],
   "source": [
    "liste = ['Python', 'Programlama', 'Dili']\n",
    "string_ornek = \",\".join(liste)\n",
    "print(string_ornek)  # Çıktı: Python,Programlama,Dili\n"
   ]
  },
  {
   "cell_type": "markdown",
   "metadata": {},
   "source": [
    "\n",
    "### strip(), lstrip() ve rstrip() Metodları ile String Başındaki ve Sonundaki Boşlukları Silme:\n",
    "\n",
    "Bu metodlar, stringin başındaki ve sonundaki boşlukları temizler. strip() stringin her iki ucundaki boşlukları silerken, lstrip() sadece başındakileri, rstrip() ise sadece sondakileri siler."
   ]
  },
  {
   "cell_type": "code",
   "execution_count": 10,
   "metadata": {},
   "outputs": [
    {
     "name": "stdout",
     "output_type": "stream",
     "text": [
      "Python Programlama\n",
      "Python Programlama    \n",
      "    Python Programlama\n"
     ]
    }
   ],
   "source": [
    "string_ornek = \"    Python Programlama    \"\n",
    "temiz_string = string_ornek.strip()\n",
    "print(temiz_string)  # Çıktı: Python Programlama\n",
    "\n",
    "string_ornek = \"    Python Programlama    \"\n",
    "temiz_baslangic = string_ornek.lstrip()\n",
    "print(temiz_baslangic)  # Çıktı: Python Programlama    \n",
    "\n",
    "string_ornek = \"    Python Programlama    \"\n",
    "temiz_son = string_ornek.rstrip()\n",
    "print(temiz_son)  # Çıktı:     Python Programlama\n"
   ]
  }
 ],
 "metadata": {
  "kernelspec": {
   "display_name": "yaget",
   "language": "python",
   "name": "python3"
  },
  "language_info": {
   "codemirror_mode": {
    "name": "ipython",
    "version": 3
   },
   "file_extension": ".py",
   "mimetype": "text/x-python",
   "name": "python",
   "nbconvert_exporter": "python",
   "pygments_lexer": "ipython3",
   "version": "3.9.1"
  }
 },
 "nbformat": 4,
 "nbformat_minor": 2
}
